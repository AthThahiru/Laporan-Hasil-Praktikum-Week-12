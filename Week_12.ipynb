{
  "nbformat": 4,
  "nbformat_minor": 0,
  "metadata": {
    "colab": {
      "provenance": [],
      "authorship_tag": "ABX9TyOaCPEoiBXHycjIzWzTFnsk",
      "include_colab_link": true
    },
    "kernelspec": {
      "name": "python3",
      "display_name": "Python 3"
    },
    "language_info": {
      "name": "python"
    }
  },
  "cells": [
    {
      "cell_type": "markdown",
      "metadata": {
        "id": "view-in-github",
        "colab_type": "text"
      },
      "source": [
        "<a href=\"https://colab.research.google.com/github/AthThahiru/Laporan-Hasil-Praktikum-Week-12/blob/main/Week_12.ipynb\" target=\"_parent\"><img src=\"https://colab.research.google.com/assets/colab-badge.svg\" alt=\"Open In Colab\"/></a>"
      ]
    },
    {
      "cell_type": "markdown",
      "source": [
        "# Weekly Exercise 1"
      ],
      "metadata": {
        "id": "tPItLK70TYOr"
      }
    },
    {
      "cell_type": "code",
      "source": [
        "def llingkaran ()   :\n",
        "  phi               = 3.14\n",
        "  try               :\n",
        "     jari2             = float (input (\"Masukkan Jari-Jari Lingkaran : \"))\n",
        "     luas              = phi * jari2 * jari2\n",
        "     print             (\"Luas Lingkaran               :\", luas)\n",
        "  except            :\n",
        "     print (\"Hanya bisa diisi dengan angka\")\n",
        "\n",
        "def lpersegi ()     :\n",
        "  try               :\n",
        "     sisi              = float (input (\"Masukkan Sisi Persegi        : \"))\n",
        "     luas              = float (sisi * sisi)\n",
        "     print             (\"Luas Persegi                 :\", luas)\n",
        "  except            :\n",
        "     print (\"Hanya bisa diisi dengan angka\")\n",
        "\n",
        "def lsegitiga ()    :\n",
        "  try               :\n",
        "     alas              = float (input (\"Masukkan Alas Segitiga       : \"))\n",
        "     tinggi            = float (input (\"Masukkan Tinggi Segitiga     : \"))\n",
        "     luas              = float (alas * tinggi / 2)\n",
        "     print             (\"Luas Segitiga                :\", luas)\n",
        "  except            :\n",
        "     print (\"Hanya bisa diisi dengan angka\")\n",
        "\n",
        "def fungsi ()       :\n",
        "  while True        :\n",
        "      print (\"------------------------------------\")\n",
        "      print (\"Program Menghitung Luas Bangun Datar\")\n",
        "      print (\"1. Luas Lingkaran                   \")\n",
        "      print (\"2. Luas Persegi                     \")\n",
        "      print (\"3. Luas Segitiga                    \")\n",
        "      print (\"4. Keluar                           \")\n",
        "      print (\"------------------------------------\")\n",
        "      print (\"\\n\")\n",
        "\n",
        "      try                 :\n",
        "        pilihan           = int (input (\"Masukkan Pilihan Anda        : \"))\n",
        "        if   pilihan == 1 :\n",
        "          llingkaran ()\n",
        "          print (\"\\n\")\n",
        "          print (\"Terima Kasih\")\n",
        "        elif pilihan == 2 :\n",
        "          lpersegi   ()\n",
        "          print (\"\\n\")\n",
        "          print (\"Terima Kasih\")\n",
        "        elif pilihan == 3 :\n",
        "          lsegitiga  ()\n",
        "          print (\"\\n\")\n",
        "          print (\"Terima Kasih\")\n",
        "        elif pilihan == 4 :\n",
        "          print (\"\\n\")\n",
        "          print (\"Terima Kasih\")\n",
        "        else              :\n",
        "          print (\"\\n\")\n",
        "          print (\"Pilihan Tidak Tersedia\")\n",
        "      except              :\n",
        "        print (\"Hanya bisa diisi dengan angka\")\n",
        "\n",
        "      break\n",
        "\n",
        "fungsi ()"
      ],
      "metadata": {
        "colab": {
          "base_uri": "https://localhost:8080/"
        },
        "id": "P3Gil0VyTesQ",
        "outputId": "818a7989-9697-467d-f25e-50e7456fd64f"
      },
      "execution_count": 2,
      "outputs": [
        {
          "output_type": "stream",
          "name": "stdout",
          "text": [
            "------------------------------------\n",
            "Program Menghitung Luas Bangun Datar\n",
            "1. Luas Lingkaran                   \n",
            "2. Luas Persegi                     \n",
            "3. Luas Segitiga                    \n",
            "4. Keluar                           \n",
            "------------------------------------\n",
            "\n",
            "\n",
            "Masukkan Pilihan Anda        : 1\n",
            "Masukkan Jari-Jari Lingkaran : 1\n",
            "Luas Lingkaran               : 3.14\n",
            "\n",
            "\n",
            "Terima Kasih\n"
          ]
        }
      ]
    },
    {
      "cell_type": "markdown",
      "source": [
        "# Weekly Exercise 2\n",
        "  "
      ],
      "metadata": {
        "id": "5c4rrDUODhuW"
      }
    },
    {
      "cell_type": "code",
      "source": [
        "try          :\n",
        "  npm            = (input(\"Masukkan NPM anda : \"))\n",
        "  npm            = [int(i) for i in npm]\n",
        "  genap          = 0\n",
        "  ganjil         = 0\n",
        "\n",
        "  for i in npm :\n",
        "    if i % 2 == 0 :\n",
        "      genap += 1\n",
        "\n",
        "    else :\n",
        "      ganjil += 1\n",
        "\n",
        "  print(\"Jumlah bilangan genap : \", genap)\n",
        "  print(\"Jumlah bilangan ganjil : \", ganjil)\n",
        "except        :\n",
        "  print(\"Hanya bisa diisi dengan angka\")"
      ],
      "metadata": {
        "colab": {
          "base_uri": "https://localhost:8080/"
        },
        "id": "eTFIS4VdArDs",
        "outputId": "cf2582e4-a020-4a3e-dd79-b6a527bb2b71"
      },
      "execution_count": 4,
      "outputs": [
        {
          "output_type": "stream",
          "name": "stdout",
          "text": [
            "Masukkan NPM anda : 1238817\n",
            "Jumlah bilangan genap :  3\n",
            "Jumlah bilangan ganjil :  4\n"
          ]
        }
      ]
    }
  ]
}